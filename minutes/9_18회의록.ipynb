{
 "cells": [
  {
   "cell_type": "markdown",
   "metadata": {},
   "source": [
    "## 9/18 회의록\n",
    "### 1. 화상회의(09:00)  \n",
    "#### 경과\n",
    "이희진 : 클러스터링 후 카테리고화한 데이터 통합화  \n",
    "\n",
    "서예지 : 건강 기능 구현   \n",
    "\n",
    "유세빈 : 유저페이지 설계  \n",
    "\n",
    "박동호 : 장고 연동 및 작업물 통합  \n",
    "\n",
    "#### 목표\n",
    "이희진 : 검색 페이지 설계  \n",
    "\n",
    "서예지 : 기능 구현을 좀 더 정확하게 할 수 있도록 모델링  \n",
    "\n",
    "유세빈 : 추천 페이지 설계  \n",
    "\n",
    "박동호 : 문제점 수정 및 추가 기능 고안  \n",
    "\n",
    "### 2. 화상회의(17:30)\n",
    "#### 경과  \n",
    "이희진 : 검색페이지 설계중  \n",
    "\n",
    "유세빈 : 추천페이지 설계중  \n",
    "\n",
    "박동호 : 질병페이지 설계중  \n",
    "\n",
    "서예지 : 남은페이지 css 설계중  \n",
    "\n",
    "#### 목표  \n",
    "이희진 : 검색페이지 css 까지 사용하여 설계  \n",
    "\n",
    "유세빈 : 추천페이지 설계  \n",
    "\n",
    "박동호 : 질병페이지 css까지해보기  \n",
    "\n",
    "서예지 : 남은페이지 css입히기  "
   ]
  },
  {
   "cell_type": "code",
   "execution_count": null,
   "metadata": {},
   "outputs": [],
   "source": []
  }
 ],
 "metadata": {
  "kernelspec": {
   "display_name": "Python 3",
   "language": "python",
   "name": "python3"
  },
  "language_info": {
   "codemirror_mode": {
    "name": "ipython",
    "version": 3
   },
   "file_extension": ".py",
   "mimetype": "text/x-python",
   "name": "python",
   "nbconvert_exporter": "python",
   "pygments_lexer": "ipython3",
   "version": "3.7.6"
  }
 },
 "nbformat": 4,
 "nbformat_minor": 4
}
