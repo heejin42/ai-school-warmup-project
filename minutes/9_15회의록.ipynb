{
 "cells": [
  {
   "cell_type": "markdown",
   "metadata": {},
   "source": [
    "## 9/15 회의록\n",
    "\n",
    "### 1. 화상회의(11:00)\n",
    "\n",
    "#### 결과  \n",
    "\n",
    "서예지 : 태그를 기반으로 코사인 유사도로 필터가 가능  \n",
    "\n",
    "이희진 : 태그 토큰화 후 클러스터링 진행 중  \n",
    "\n",
    "최재현 : 재료 데이터 전처리  \n",
    "\n",
    "유세빈 : 장고를 이용하여 기능 구현 중  \n",
    "\n",
    "박동호 : 요리 추천 시스템 찾아보면서 인사이트 얻는 중\n",
    "\n",
    "#### 목표\n",
    "\n",
    "이희진 : 태그 토큰화 후 클러스터링  \n",
    "\n",
    "최재현 : 재료 데이터 전처리  \n",
    "\n",
    "유세빈 : 장고를 이용하여 기능 구현  \n",
    "\n",
    "서예지 : 재료 추천까지 해보기  \n",
    "\n",
    "박동호 : 전체적인 구조도 설계\n",
    "\n",
    "### 2. 화상회의(17:20)\n",
    "\n",
    "#### 결과  \n",
    "\n",
    "서예지 : 조리법에서의 빈도수가 높은 키워드를 구한다음 그 키워드 재료 및 태그와의 유사도를 구해서 필터.  \n",
    "\n",
    "최재현 : 데이터 인풋 재료에 대한 예외처리에 대해 생각을 해봄. 재료 인풋을 받을 재료를 정해주는게 좋을 것 같다  \n",
    "\n",
    "이희진 : 클러스터를 해본 결과 몇가지 상황에 맞는 클러스터들을 확인 해봄  \n",
    "\n",
    "유세빈 & 박동호 : django 연동해서 간단한 프로토타입 제작 중  \n",
    "\n",
    "#### 목표\n",
    "\n",
    "서예지 : 조리법의 빈도수 기반 키워드를 이용 태그와 재료의 유사도  \n",
    "\n",
    "이희진 : 건강관련 기능 구현  \n",
    "\n",
    "최재현 : 해먹남녀 레시피 검색 페이지 만들어보기  \n",
    "\n",
    "유세빈 & 박동호 : django 연동해서 간단한 프로토타입 제작"
   ]
  },
  {
   "cell_type": "code",
   "execution_count": null,
   "metadata": {},
   "outputs": [],
   "source": []
  }
 ],
 "metadata": {
  "kernelspec": {
   "display_name": "Python 3",
   "language": "python",
   "name": "python3"
  },
  "language_info": {
   "codemirror_mode": {
    "name": "ipython",
    "version": 3
   },
   "file_extension": ".py",
   "mimetype": "text/x-python",
   "name": "python",
   "nbconvert_exporter": "python",
   "pygments_lexer": "ipython3",
   "version": "3.7.6"
  }
 },
 "nbformat": 4,
 "nbformat_minor": 4
}
