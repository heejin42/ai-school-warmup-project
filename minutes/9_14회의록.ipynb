{
 "cells": [
  {
   "cell_type": "markdown",
   "metadata": {},
   "source": [
    "## 9/14 화상회의(17:20)\n",
    "\n",
    "- 내용 : 모델링 문제 고민  \n",
    "\n",
    "이희진 : 건강에 맞는 영양소 별로 정렬해서 보여줌.  \n",
    "\n",
    "서예지 : 영양소 기반 코사인 유사도로 결과 보여주기, 태그를 이용해서 추천해주기도 가능! 카테고리, 영양소, 재료를 인풋받고 그 해당 요리 추천. ==> 태그와 재료를 이용하여 추천!   \n",
    "추가의견 : 태그를 활용해서 또 요리를 추천해보기. 질병에 빵이 안좋으면 그런 것은 점수를 낮춘다.\n",
    "\n",
    "\n",
    "### 결과\n",
    "- 태그와 재료를 같이 이용하여 정확도 높이는 방법.\n",
    "- 영양소 별로 \n",
    "\n",
    "### 문제점\n",
    "1. 데이터의 이상치 문제\n",
    "2. 모델링문제 - ex) 태그를 이용할거면 어떻게 할 것인지? - 서예지&이희진\n",
    "\n"
   ]
  },
  {
   "cell_type": "code",
   "execution_count": null,
   "metadata": {},
   "outputs": [],
   "source": []
  }
 ],
 "metadata": {
  "kernelspec": {
   "display_name": "Python 3",
   "language": "python",
   "name": "python3"
  },
  "language_info": {
   "codemirror_mode": {
    "name": "ipython",
    "version": 3
   },
   "file_extension": ".py",
   "mimetype": "text/x-python",
   "name": "python",
   "nbconvert_exporter": "python",
   "pygments_lexer": "ipython3",
   "version": "3.7.6"
  }
 },
 "nbformat": 4,
 "nbformat_minor": 4
}
