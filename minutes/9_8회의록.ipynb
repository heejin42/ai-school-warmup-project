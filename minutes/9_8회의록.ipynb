{
 "cells": [
  {
   "cell_type": "markdown",
   "metadata": {},
   "source": [
    "### 9.8(화) 화상회의(11:30~18:00)\n",
    "\n",
    "#### 내용\n",
    "- 각자 재료 인풋 받아 요리 추천하는 기능 구현한 결과물 공유\n",
    "\n",
    "유세빈 : 1:n 문제 때문에 약간 야매로 데이터 프레임에 추가하여 코사인 유사도를 이용해서 구현하심.  \n",
    "이희진 : 유클리디안 거리 비교를 통한 군집화를 생각하였으나 1:n 문제 발생.  \n",
    "서예지 : 배운 것에서 응용해서 넣어보려 했으나, 결과가 제대로 출력이 안되는 문제  \n",
    "박동호 : 모델문제는 해결하기 힘들어서 전처리문제를 해결하려 함.  \n",
    "최재현 : 모델문제 해결 X  \n",
    "\n",
    "- 기획서 작성 및 아이디어 회의 / 추후 계획 설립.\n"
   ]
  },
  {
   "cell_type": "code",
   "execution_count": null,
   "metadata": {},
   "outputs": [],
   "source": []
  }
 ],
 "metadata": {
  "kernelspec": {
   "display_name": "Python 3",
   "language": "python",
   "name": "python3"
  },
  "language_info": {
   "codemirror_mode": {
    "name": "ipython",
    "version": 3
   },
   "file_extension": ".py",
   "mimetype": "text/x-python",
   "name": "python",
   "nbconvert_exporter": "python",
   "pygments_lexer": "ipython3",
   "version": "3.7.6"
  }
 },
 "nbformat": 4,
 "nbformat_minor": 4
}
