{
 "cells": [
  {
   "cell_type": "markdown",
   "metadata": {},
   "source": [
    "## 9/17 회의록\n",
    "### 1. 화상회의(11:00)  \n",
    "#### 경과\n",
    "이희진 : 안좋은 재료, 좋은 재료로 필터링을 거친후 영양소 기준 정렬  \n",
    "\n",
    "서예지 : 딥러닝 모델을 쓸거면 데이터를 더 구하여 해봐야  \n",
    "\n",
    "유세빈 : 유저페이지 기능 구현  \n",
    "\n",
    "박동호 : 질병별 페이지 이동 구현  \n",
    "\n",
    "#### 목표\n",
    "이희진 & 서예지 : 기능 구현을 좀 더 정확하게 할 수 있도록 모델링  \n",
    "\n",
    "유세빈 : 유저페이지 기능 마무리  \n",
    "\n",
    "박동호 : 남은 페이지 이동 구현  \n",
    "\n",
    "### 2. 화상회의(17:30)\n",
    "#### 경과\n",
    "서예지 : 질병에 따른 기능 -> 태그(건강,다이어트)로 필터를 먼저 거치고 더욱 타겟을 좁혀서 정확한 결과 고안중   \n",
    "\n",
    "이희진 : 클러스터링 이용하여 카테고리 분류  \n",
    "\n",
    "유세빈 : 마이페이지 구현 및 유저 정보 db화  \n",
    "\n",
    "#### 목표\n",
    "이희진 : 클러스터링기능 구체화, 검색페이지 구현 고안  \n",
    "\n",
    "서예지 : 질병에 따른 기능 더욱 타겟을 좁혀서 정확한 결과 도출  \n",
    "\n",
    "박동호 : 질병페이지 모델과 연동후 구현  \n",
    "\n",
    "유세빈 : 마이페이지 이용 나만의 추천 페이지 구현  "
   ]
  },
  {
   "cell_type": "code",
   "execution_count": null,
   "metadata": {},
   "outputs": [],
   "source": []
  }
 ],
 "metadata": {
  "kernelspec": {
   "display_name": "Python 3",
   "language": "python",
   "name": "python3"
  },
  "language_info": {
   "codemirror_mode": {
    "name": "ipython",
    "version": 3
   },
   "file_extension": ".py",
   "mimetype": "text/x-python",
   "name": "python",
   "nbconvert_exporter": "python",
   "pygments_lexer": "ipython3",
   "version": "3.7.6"
  }
 },
 "nbformat": 4,
 "nbformat_minor": 4
}
