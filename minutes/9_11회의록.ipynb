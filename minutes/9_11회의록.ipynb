{
 "cells": [
  {
   "cell_type": "markdown",
   "metadata": {},
   "source": [
    "# 9.11(금) 회의록\n",
    "\n",
    "## 총정리\n",
    "\n",
    "### 1. 주제 : 요리 추천 시스템 (냉장고의 재료로 요리 추천)\n",
    "\n",
    "### 2. 어떤 것을 만들고 싶은가(기능)\n",
    " 1) 사용자에게 본인 냉장고의 재료를 입력 받아 그 재료를 이용한 요리를 추천해준다.  \n",
    " 2) 요리의 영양소 정보를 통한 질병별 몸에 도움이 되는 요리를 추천해준다.  \n",
    " 3) 이후 시간 여유 있을 시 추가.\n",
    "\n",
    "### 3. 어떤 기술을 사용할 것인가\n",
    " 1) 컨텐츠 기반 추천 알고리즘. 2) 고민중.\n",
    "\n",
    "### 4. 어떤 기능을 꼭 포함할 것인가\n",
    " 1) 재료를 받아 그 재료를 이용해 요리를 추천하는 기능\n",
    "\n",
    "## 프로젝트 순서도 및 일정\n",
    "\n",
    "### 1. 모델링(각 기능을 구현한 모델 구축) & 데이터 전처리\n",
    "\n",
    "- 2020 / 09 / 11(금) ~ 2020 / 09 / 16(수)\n",
    "\n",
    "### 2. Django를 활용한 웹과 연동.\n",
    "\n",
    "- 2020 / 09 / 16(수) ~ 2020 / 09 / 18(금)\n",
    "\n",
    "### 3. 오류 수정 및 기능 보완\n",
    "\n",
    "- 2020 / 09 / 18(금) ~ 2020 / 09 / 21(월)\n",
    "\n",
    "### 4. 발표자료 작성\n",
    "\n",
    "- 2020 / 09 / 22(화) ~ 2020 / 09 / 23(수)\n"
   ]
  },
  {
   "cell_type": "code",
   "execution_count": null,
   "metadata": {},
   "outputs": [],
   "source": []
  }
 ],
 "metadata": {
  "kernelspec": {
   "display_name": "Python 3",
   "language": "python",
   "name": "python3"
  },
  "language_info": {
   "codemirror_mode": {
    "name": "ipython",
    "version": 3
   },
   "file_extension": ".py",
   "mimetype": "text/x-python",
   "name": "python",
   "nbconvert_exporter": "python",
   "pygments_lexer": "ipython3",
   "version": "3.7.6"
  }
 },
 "nbformat": 4,
 "nbformat_minor": 4
}
